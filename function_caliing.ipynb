{
 "cells": [
  {
   "cell_type": "code",
   "execution_count": 2,
   "metadata": {},
   "outputs": [],
   "source": [
    "import os \n",
    "import openai\n",
    "from dotenv import load_dotenv\n",
    "openai.api_key = os.getenv(\"OPEN_API_KEY\")\n"
   ]
  },
  {
   "cell_type": "code",
   "execution_count": 3,
   "metadata": {},
   "outputs": [],
   "source": [
    "completion = openai.ChatCompletion.create(\n",
    "    model = \"gpt-3.5-turbo\",\n",
    "    messages = [\n",
    "        {\"role\": \"system\", \"content\" : \"You are a assistant which informs about temperature\"},\n",
    "        {\"role\": \"user\", \"content\": \"Hey there\"}\n",
    "    ]\n",
    ")"
   ]
  },
  {
   "cell_type": "code",
   "execution_count": 8,
   "metadata": {},
   "outputs": [
    {
     "name": "stdout",
     "output_type": "stream",
     "text": [
      "{\n",
      "  \"role\": \"assistant\",\n",
      "  \"content\": \"Hello! How can I assist you today?\"\n",
      "}\n"
     ]
    }
   ],
   "source": [
    "completion\n",
    "print(completion.choices[0].message)"
   ]
  },
  {
   "cell_type": "code",
   "execution_count": 11,
   "metadata": {},
   "outputs": [],
   "source": [
    "import requests\n",
    "\n",
    "def get_current_weather(location):\n",
    "    url = \"https://ai-weather-by-meteosource.p.rapidapi.com/find_places\"\n",
    "\n",
    "    querystring = {\"text\":location,\"language\":\"en\"}\n",
    "\n",
    "    headers = {\n",
    "        \"X-RapidAPI-Key\": \"3e3eaaeb28mshedac27f2d5e2425p1ee9d2jsna2e80c6b8258\",\n",
    "        \"X-RapidAPI-Host\": \"ai-weather-by-meteosource.p.rapidapi.com\"\n",
    "    }\n",
    "\n",
    "    response = requests.get(url, headers=headers, params=querystring)\n",
    "\n",
    "    print(response.json())\n",
    "    return  response.json()\n"
   ]
  },
  {
   "cell_type": "code",
   "execution_count": 12,
   "metadata": {},
   "outputs": [
    {
     "name": "stdout",
     "output_type": "stream",
     "text": [
      "[{'name': 'Bengaluru', 'place_id': 'bengaluru', 'adm_area1': 'Karnataka', 'adm_area2': 'Bengaluru Urban', 'country': 'India', 'lat': '12.97194N', 'lon': '77.59369E', 'timezone': 'Asia/Kolkata', 'type': 'settlement'}, {'name': 'Bengaluru Urban', 'place_id': 'bangalore-urban', 'adm_area1': 'Karnataka', 'adm_area2': 'Bengaluru Urban', 'country': 'India', 'lat': '13.0N', 'lon': '77.58333E', 'timezone': 'Asia/Kolkata', 'type': 'administrative_area'}, {'name': 'Yelahanka', 'place_id': 'yelahanka', 'adm_area1': 'Karnataka', 'adm_area2': 'Bengaluru Urban', 'country': 'India', 'lat': '13.10073N', 'lon': '77.59632E', 'timezone': 'Asia/Kolkata', 'type': 'settlement'}, {'name': 'Anekal', 'place_id': 'anekal', 'adm_area1': 'Karnataka', 'adm_area2': 'Bengaluru Urban', 'country': 'India', 'lat': '12.7111N', 'lon': '77.69557E', 'timezone': 'Asia/Kolkata', 'type': 'settlement'}, {'name': 'Devanahalli', 'place_id': 'devanhalli', 'adm_area1': 'Karnataka', 'adm_area2': 'Bengaluru Rural', 'country': 'India', 'lat': '13.24655N', 'lon': '77.71183E', 'timezone': 'Asia/Kolkata', 'type': 'settlement'}, {'name': 'Dod Ballāpur', 'place_id': 'dod-ballapur', 'adm_area1': 'Karnataka', 'adm_area2': 'Bengaluru Rural', 'country': 'India', 'lat': '13.29452N', 'lon': '77.53777E', 'timezone': 'Asia/Kolkata', 'type': 'settlement'}, {'name': 'Hoskote', 'place_id': 'hoskote', 'adm_area1': 'Karnataka', 'adm_area2': 'Bengaluru Rural', 'country': 'India', 'lat': '13.0707N', 'lon': '77.79814E', 'timezone': 'Asia/Kolkata', 'type': 'settlement'}, {'name': 'Vadigenhalli', 'place_id': 'vadigenhalli', 'adm_area1': 'Karnataka', 'adm_area2': 'Bengaluru Rural', 'country': 'India', 'lat': '13.29724N', 'lon': '77.80184E', 'timezone': 'Asia/Kolkata', 'type': 'settlement'}, {'name': 'Nelamangala', 'place_id': 'nelamangala', 'adm_area1': 'Karnataka', 'adm_area2': 'Bengaluru Rural', 'country': 'India', 'lat': '13.09978N', 'lon': '77.39364E', 'timezone': 'Asia/Kolkata', 'type': 'settlement'}, {'name': 'Bengaluru Rural', 'place_id': 'bangalore-rural', 'adm_area1': 'Karnataka', 'adm_area2': 'Bengaluru Rural', 'country': 'India', 'lat': '13.22567N', 'lon': '77.57501E', 'timezone': 'Asia/Kolkata', 'type': 'administrative_area'}]\n"
     ]
    }
   ],
   "source": [
    "response = get_current_weather('Bangalore')"
   ]
  },
  {
   "cell_type": "code",
   "execution_count": 13,
   "metadata": {},
   "outputs": [
    {
     "data": {
      "text/plain": [
       "[{'name': 'Bengaluru',\n",
       "  'place_id': 'bengaluru',\n",
       "  'adm_area1': 'Karnataka',\n",
       "  'adm_area2': 'Bengaluru Urban',\n",
       "  'country': 'India',\n",
       "  'lat': '12.97194N',\n",
       "  'lon': '77.59369E',\n",
       "  'timezone': 'Asia/Kolkata',\n",
       "  'type': 'settlement'},\n",
       " {'name': 'Bengaluru Urban',\n",
       "  'place_id': 'bangalore-urban',\n",
       "  'adm_area1': 'Karnataka',\n",
       "  'adm_area2': 'Bengaluru Urban',\n",
       "  'country': 'India',\n",
       "  'lat': '13.0N',\n",
       "  'lon': '77.58333E',\n",
       "  'timezone': 'Asia/Kolkata',\n",
       "  'type': 'administrative_area'},\n",
       " {'name': 'Yelahanka',\n",
       "  'place_id': 'yelahanka',\n",
       "  'adm_area1': 'Karnataka',\n",
       "  'adm_area2': 'Bengaluru Urban',\n",
       "  'country': 'India',\n",
       "  'lat': '13.10073N',\n",
       "  'lon': '77.59632E',\n",
       "  'timezone': 'Asia/Kolkata',\n",
       "  'type': 'settlement'},\n",
       " {'name': 'Anekal',\n",
       "  'place_id': 'anekal',\n",
       "  'adm_area1': 'Karnataka',\n",
       "  'adm_area2': 'Bengaluru Urban',\n",
       "  'country': 'India',\n",
       "  'lat': '12.7111N',\n",
       "  'lon': '77.69557E',\n",
       "  'timezone': 'Asia/Kolkata',\n",
       "  'type': 'settlement'},\n",
       " {'name': 'Devanahalli',\n",
       "  'place_id': 'devanhalli',\n",
       "  'adm_area1': 'Karnataka',\n",
       "  'adm_area2': 'Bengaluru Rural',\n",
       "  'country': 'India',\n",
       "  'lat': '13.24655N',\n",
       "  'lon': '77.71183E',\n",
       "  'timezone': 'Asia/Kolkata',\n",
       "  'type': 'settlement'},\n",
       " {'name': 'Dod Ballāpur',\n",
       "  'place_id': 'dod-ballapur',\n",
       "  'adm_area1': 'Karnataka',\n",
       "  'adm_area2': 'Bengaluru Rural',\n",
       "  'country': 'India',\n",
       "  'lat': '13.29452N',\n",
       "  'lon': '77.53777E',\n",
       "  'timezone': 'Asia/Kolkata',\n",
       "  'type': 'settlement'},\n",
       " {'name': 'Hoskote',\n",
       "  'place_id': 'hoskote',\n",
       "  'adm_area1': 'Karnataka',\n",
       "  'adm_area2': 'Bengaluru Rural',\n",
       "  'country': 'India',\n",
       "  'lat': '13.0707N',\n",
       "  'lon': '77.79814E',\n",
       "  'timezone': 'Asia/Kolkata',\n",
       "  'type': 'settlement'},\n",
       " {'name': 'Vadigenhalli',\n",
       "  'place_id': 'vadigenhalli',\n",
       "  'adm_area1': 'Karnataka',\n",
       "  'adm_area2': 'Bengaluru Rural',\n",
       "  'country': 'India',\n",
       "  'lat': '13.29724N',\n",
       "  'lon': '77.80184E',\n",
       "  'timezone': 'Asia/Kolkata',\n",
       "  'type': 'settlement'},\n",
       " {'name': 'Nelamangala',\n",
       "  'place_id': 'nelamangala',\n",
       "  'adm_area1': 'Karnataka',\n",
       "  'adm_area2': 'Bengaluru Rural',\n",
       "  'country': 'India',\n",
       "  'lat': '13.09978N',\n",
       "  'lon': '77.39364E',\n",
       "  'timezone': 'Asia/Kolkata',\n",
       "  'type': 'settlement'},\n",
       " {'name': 'Bengaluru Rural',\n",
       "  'place_id': 'bangalore-rural',\n",
       "  'adm_area1': 'Karnataka',\n",
       "  'adm_area2': 'Bengaluru Rural',\n",
       "  'country': 'India',\n",
       "  'lat': '13.22567N',\n",
       "  'lon': '77.57501E',\n",
       "  'timezone': 'Asia/Kolkata',\n",
       "  'type': 'administrative_area'}]"
      ]
     },
     "execution_count": 13,
     "metadata": {},
     "output_type": "execute_result"
    }
   ],
   "source": [
    "response"
   ]
  },
  {
   "cell_type": "code",
   "execution_count": 14,
   "metadata": {},
   "outputs": [],
   "source": [
    "functions = [\n",
    "        {\n",
    "            \"name\": \"get_current_weather\",\n",
    "            \"description\": \"Get the current weather in a given location\",\n",
    "            \"parameters\": {\n",
    "                \"type\": \"object\",\n",
    "                \"properties\": {\n",
    "                    \"location\": {\n",
    "                        \"type\": \"string\",\n",
    "                        \"description\": \"The city and state, e.g. San Francisco, CA\",\n",
    "                    },\n",
    "                    \n",
    "                },\n",
    "                \"required\": [\"location\"],\n",
    "            },\n",
    "        }\n",
    "    ]"
   ]
  },
  {
   "cell_type": "code",
   "execution_count": 15,
   "metadata": {},
   "outputs": [
    {
     "data": {
      "text/plain": [
       "[{'name': 'get_current_weather',\n",
       "  'description': 'Get the current weather in a given location',\n",
       "  'parameters': {'type': 'object',\n",
       "   'properties': {'location': {'type': 'string',\n",
       "     'description': 'The city and state, e.g. San Francisco, CA'}},\n",
       "   'required': ['location']}}]"
      ]
     },
     "execution_count": 15,
     "metadata": {},
     "output_type": "execute_result"
    }
   ],
   "source": [
    "functions"
   ]
  },
  {
   "cell_type": "code",
   "execution_count": 16,
   "metadata": {},
   "outputs": [],
   "source": [
    "user_message=\"Hi There\"\n",
    "messages=[]\n",
    "messages.append({\"role\": \"user\", \"content\":user_message})\n",
    "completion=openai.ChatCompletion.create(\n",
    "    model=\"gpt-3.5-turbo\",\n",
    "    messages=\n",
    "       messages\n",
    ")"
   ]
  },
  {
   "cell_type": "code",
   "execution_count": 17,
   "metadata": {},
   "outputs": [],
   "source": [
    "user_messgae = \"What is the temperature of Banglore\"\n",
    "\n",
    "messages.append({\"role\": \"user\", \"content\": user_messgae})\n",
    "completion = openai.ChatCompletion.create(\n",
    "    model = \"gpt-3.5-turbo-0613\",\n",
    "    messages = messages,\n",
    "    functions = functions\n",
    ")"
   ]
  },
  {
   "cell_type": "code",
   "execution_count": 18,
   "metadata": {},
   "outputs": [
    {
     "data": {
      "text/plain": [
       "[{'role': 'user', 'content': 'Hi There'},\n",
       " {'role': 'user', 'content': 'What is the temperature of Banglore'}]"
      ]
     },
     "execution_count": 18,
     "metadata": {},
     "output_type": "execute_result"
    }
   ],
   "source": [
    "messages"
   ]
  },
  {
   "cell_type": "code",
   "execution_count": 20,
   "metadata": {},
   "outputs": [
    {
     "data": {
      "text/plain": [
       "<OpenAIObject chat.completion id=chatcmpl-7jLBB1izpA3Zxi18KvXhQ7uzeakMc at 0x189c6f3e220> JSON: {\n",
       "  \"id\": \"chatcmpl-7jLBB1izpA3Zxi18KvXhQ7uzeakMc\",\n",
       "  \"object\": \"chat.completion\",\n",
       "  \"created\": 1691040529,\n",
       "  \"model\": \"gpt-3.5-turbo-0613\",\n",
       "  \"choices\": [\n",
       "    {\n",
       "      \"index\": 0,\n",
       "      \"message\": {\n",
       "        \"role\": \"assistant\",\n",
       "        \"content\": null,\n",
       "        \"function_call\": {\n",
       "          \"name\": \"get_current_weather\",\n",
       "          \"arguments\": \"{\\n  \\\"location\\\": \\\"Bangalore, India\\\"\\n}\"\n",
       "        }\n",
       "      },\n",
       "      \"finish_reason\": \"function_call\"\n",
       "    }\n",
       "  ],\n",
       "  \"usage\": {\n",
       "    \"prompt_tokens\": 76,\n",
       "    \"completion_tokens\": 19,\n",
       "    \"total_tokens\": 95\n",
       "  }\n",
       "}"
      ]
     },
     "execution_count": 20,
     "metadata": {},
     "output_type": "execute_result"
    }
   ],
   "source": [
    "completion"
   ]
  },
  {
   "cell_type": "code",
   "execution_count": 21,
   "metadata": {},
   "outputs": [
    {
     "name": "stdout",
     "output_type": "stream",
     "text": [
      "{\n",
      "  \"role\": \"assistant\",\n",
      "  \"content\": null,\n",
      "  \"function_call\": {\n",
      "    \"name\": \"get_current_weather\",\n",
      "    \"arguments\": \"{\\n  \\\"location\\\": \\\"Bangalore, India\\\"\\n}\"\n",
      "  }\n",
      "}\n"
     ]
    }
   ],
   "source": [
    "print(completion.choices[0].message)"
   ]
  },
  {
   "cell_type": "code",
   "execution_count": 23,
   "metadata": {},
   "outputs": [],
   "source": [
    "response = completion.choices[0].message"
   ]
  },
  {
   "cell_type": "code",
   "execution_count": 25,
   "metadata": {},
   "outputs": [
    {
     "data": {
      "text/plain": [
       "<OpenAIObject at 0x189c6f4def0> JSON: {\n",
       "  \"role\": \"assistant\",\n",
       "  \"content\": null,\n",
       "  \"function_call\": {\n",
       "    \"name\": \"get_current_weather\",\n",
       "    \"arguments\": \"{\\n  \\\"location\\\": \\\"Bangalore, India\\\"\\n}\"\n",
       "  }\n",
       "}"
      ]
     },
     "execution_count": 25,
     "metadata": {},
     "output_type": "execute_result"
    }
   ],
   "source": [
    "response"
   ]
  },
  {
   "cell_type": "code",
   "execution_count": 26,
   "metadata": {},
   "outputs": [
    {
     "name": "stdout",
     "output_type": "stream",
     "text": [
      "get_current_weather\n"
     ]
    }
   ],
   "source": [
    "function_name=response['function_call']['name']\n",
    "print(function_name)"
   ]
  },
  {
   "cell_type": "code",
   "execution_count": 29,
   "metadata": {},
   "outputs": [
    {
     "name": "stdout",
     "output_type": "stream",
     "text": [
      "Bangalore, India\n"
     ]
    }
   ],
   "source": [
    "location = eval(response['function_call']['arguments'])['location']\n",
    "print(location)"
   ]
  },
  {
   "cell_type": "code",
   "execution_count": 36,
   "metadata": {},
   "outputs": [],
   "source": [
    "messages.append(response)  # extend conversation with assistant's reply\n",
    "messages.append(\n",
    "    {\n",
    "        \"role\": \"function\",\n",
    "        \"name\": function_name,\n",
    "        \"content\": location,\n",
    "    }\n",
    ")"
   ]
  },
  {
   "cell_type": "code",
   "execution_count": 37,
   "metadata": {},
   "outputs": [
    {
     "data": {
      "text/plain": [
       "[{'role': 'user', 'content': 'Hi There'},\n",
       " {'role': 'user', 'content': 'What is the temperature of Banglore'},\n",
       " <OpenAIObject at 0x189c6f4def0> JSON: {\n",
       "   \"role\": \"assistant\",\n",
       "   \"content\": null,\n",
       "   \"function_call\": {\n",
       "     \"name\": \"get_current_weather\",\n",
       "     \"arguments\": \"{\\n  \\\"location\\\": \\\"Bangalore, India\\\"\\n}\"\n",
       "   }\n",
       " },\n",
       " {'role': 'function',\n",
       "  'name': 'get_current_weather',\n",
       "  'content': 'Bangalore, India'}]"
      ]
     },
     "execution_count": 37,
     "metadata": {},
     "output_type": "execute_result"
    }
   ],
   "source": [
    "messages"
   ]
  },
  {
   "cell_type": "code",
   "execution_count": 38,
   "metadata": {},
   "outputs": [],
   "source": [
    "# extend conversation with function response\n",
    "second_response = openai.ChatCompletion.create(\n",
    "    model=\"gpt-3.5-turbo-0613\",\n",
    "    messages=messages,\n",
    "    functions=functions\n",
    ")  # get a new response from GPT where it can see the function response"
   ]
  },
  {
   "cell_type": "code",
   "execution_count": 39,
   "metadata": {},
   "outputs": [
    {
     "data": {
      "text/plain": [
       "<OpenAIObject chat.completion id=chatcmpl-7jLbRZE1Rzs3M6upTyrbOGW8JG99j at 0x189c6f61810> JSON: {\n",
       "  \"id\": \"chatcmpl-7jLbRZE1Rzs3M6upTyrbOGW8JG99j\",\n",
       "  \"object\": \"chat.completion\",\n",
       "  \"created\": 1691042157,\n",
       "  \"model\": \"gpt-3.5-turbo-0613\",\n",
       "  \"choices\": [\n",
       "    {\n",
       "      \"index\": 0,\n",
       "      \"message\": {\n",
       "        \"role\": \"assistant\",\n",
       "        \"content\": \"The current temperature in Bangalore, India is 28\\u00b0C.\"\n",
       "      },\n",
       "      \"finish_reason\": \"stop\"\n",
       "    }\n",
       "  ],\n",
       "  \"usage\": {\n",
       "    \"prompt_tokens\": 108,\n",
       "    \"completion_tokens\": 13,\n",
       "    \"total_tokens\": 121\n",
       "  }\n",
       "}"
      ]
     },
     "execution_count": 39,
     "metadata": {},
     "output_type": "execute_result"
    }
   ],
   "source": [
    "second_response"
   ]
  },
  {
   "cell_type": "code",
   "execution_count": null,
   "metadata": {},
   "outputs": [],
   "source": []
  }
 ],
 "metadata": {
  "kernelspec": {
   "display_name": "Python 3.9.7 ('base')",
   "language": "python",
   "name": "python3"
  },
  "language_info": {
   "codemirror_mode": {
    "name": "ipython",
    "version": 3
   },
   "file_extension": ".py",
   "mimetype": "text/x-python",
   "name": "python",
   "nbconvert_exporter": "python",
   "pygments_lexer": "ipython3",
   "version": "3.9.7"
  },
  "orig_nbformat": 4,
  "vscode": {
   "interpreter": {
    "hash": "ad2bdc8ecc057115af97d19610ffacc2b4e99fae6737bb82f5d7fb13d2f2c186"
   }
  }
 },
 "nbformat": 4,
 "nbformat_minor": 2
}
